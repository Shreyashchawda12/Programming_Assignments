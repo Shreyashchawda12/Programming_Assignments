{
 "cells": [
  {
   "cell_type": "code",
   "execution_count": 8,
   "id": "54177a4f-7dcb-408e-aa5f-859595f0ae0a",
   "metadata": {},
   "outputs": [
    {
     "name": "stdin",
     "output_type": "stream",
     "text": [
      "Enter a number:  5\n"
     ]
    },
    {
     "name": "stdout",
     "output_type": "stream",
     "text": [
      "Factorial of 5 is 120\n"
     ]
    }
   ],
   "source": [
    "#1. Write a Python Program to Find the Factorial of a Number?\n",
    "\n",
    "def factorial(n):\n",
    "    if n == 0 or n == 1:\n",
    "        return 1\n",
    "    else:\n",
    "        return n * factorial(n - 1)\n",
    "\n",
    "# Get the input from the user\n",
    "number = int(input(\"Enter a number: \"))\n",
    "\n",
    "# Calculate the factorial\n",
    "result = factorial(number)\n",
    "\n",
    "# Print the result\n",
    "print(\"Factorial of\", number, \"is\", result)\n"
   ]
  },
  {
   "cell_type": "code",
   "execution_count": 9,
   "id": "638c3e4c-f1ca-4f1d-9501-41e9d7498372",
   "metadata": {},
   "outputs": [
    {
     "name": "stdin",
     "output_type": "stream",
     "text": [
      "Enter a number:  4\n"
     ]
    },
    {
     "name": "stdout",
     "output_type": "stream",
     "text": [
      "Multiplication table for 4 :\n",
      "4 x 1 = 4\n",
      "4 x 2 = 8\n",
      "4 x 3 = 12\n",
      "4 x 4 = 16\n",
      "4 x 5 = 20\n",
      "4 x 6 = 24\n",
      "4 x 7 = 28\n",
      "4 x 8 = 32\n",
      "4 x 9 = 36\n",
      "4 x 10 = 40\n"
     ]
    }
   ],
   "source": [
    "#2. Write a Python Program to Display the multiplication Table?\n",
    "def multiplication_table(n):\n",
    "    for i in range(1, 11):\n",
    "        print(n, 'x', i, '=', n * i)\n",
    "\n",
    "# Get the input from the user\n",
    "number = int(input(\"Enter a number: \"))\n",
    "\n",
    "# Display the multiplication table\n",
    "print(\"Multiplication table for\", number, \":\")\n",
    "multiplication_table(number)\n"
   ]
  },
  {
   "cell_type": "code",
   "execution_count": 12,
   "id": "d8c417e0-f23e-4121-84e7-017434692aa9",
   "metadata": {},
   "outputs": [
    {
     "name": "stdin",
     "output_type": "stream",
     "text": [
      "Enter the number of terms in the Fibonacci sequence:  7\n"
     ]
    },
    {
     "name": "stdout",
     "output_type": "stream",
     "text": [
      "Fibonacci sequence:\n",
      "[0, 1, 1, 2, 3, 5, 8]\n"
     ]
    }
   ],
   "source": [
    "#3. Write a Python Program to Print the Fibonacci sequence?\n",
    "def fibonacci_sequence(n):\n",
    "    sequence = [0, 1]  # First two numbers of the sequence\n",
    "    if n <= 2:\n",
    "        return sequence[:n]\n",
    "    else:\n",
    "        for _ in range(2, n):\n",
    "            next_number = sequence[-1] + sequence[-2]\n",
    "            sequence.append(next_number)\n",
    "        return sequence\n",
    "\n",
    "# Get the input from the user\n",
    "terms = int(input(\"Enter the number of terms in the Fibonacci sequence: \"))\n",
    "\n",
    "# Call the function and print the sequence\n",
    "fib_sequence = fibonacci_sequence(terms)\n",
    "print(\"Fibonacci sequence:\")\n",
    "print(fib_sequence)\n"
   ]
  },
  {
   "cell_type": "code",
   "execution_count": 11,
   "id": "fdd0e2ad-7f35-488d-9d98-c81c73a0a3f1",
   "metadata": {},
   "outputs": [
    {
     "name": "stdin",
     "output_type": "stream",
     "text": [
      "Enter a number:  153\n"
     ]
    },
    {
     "name": "stdout",
     "output_type": "stream",
     "text": [
      "153 is an Armstrong number\n"
     ]
    }
   ],
   "source": [
    "#4. Write a Python Program to Check Armstrong Number?\n",
    "def is_armstrong_number(number):\n",
    "    # Convert the number to a string to determine its length\n",
    "    num_str = str(number)\n",
    "    length = len(num_str)\n",
    "    \n",
    "    # Calculate the sum of the cubes of each digit\n",
    "    sum_of_cubes = 0\n",
    "    for digit in num_str:\n",
    "        sum_of_cubes += int(digit) ** length\n",
    "\n",
    "    # Check if the number is an Armstrong number\n",
    "    if sum_of_cubes == number:\n",
    "        return True\n",
    "    else:\n",
    "        return False\n",
    "\n",
    "# Get the input from the user\n",
    "number = int(input(\"Enter a number: \"))\n",
    "\n",
    "# Check if the number is an Armstrong number\n",
    "if is_armstrong_number(number):\n",
    "    print(number, \"is an Armstrong number\")\n",
    "else:\n",
    "    print(number, \"is not an Armstrong number\")\n"
   ]
  },
  {
   "cell_type": "code",
   "execution_count": 16,
   "id": "1ae7be85-f6e3-4cfe-81a0-a54dbcf25a11",
   "metadata": {},
   "outputs": [
    {
     "name": "stdin",
     "output_type": "stream",
     "text": [
      "Enter the starting number of the interval:  11\n",
      "Enter the ending number of the interval:  166\n"
     ]
    },
    {
     "name": "stdout",
     "output_type": "stream",
     "text": [
      "Armstrong numbers within the interval 11 and 166 are:\n",
      "153\n"
     ]
    }
   ],
   "source": [
    "#5. Write a Python Program to Find Armstrong Number in an Interval?\n",
    "def is_armstrong_number(number):\n",
    "    # Convert the number to a string to determine its length\n",
    "    num_str = str(number)\n",
    "    length = len(num_str)\n",
    "    \n",
    "    # Calculate the sum of the cubes of each digit\n",
    "    sum_of_cubes = 0\n",
    "    for digit in num_str:\n",
    "        sum_of_cubes += int(digit) ** length\n",
    "\n",
    "    # Check if the number is an Armstrong number\n",
    "    if sum_of_cubes == number:\n",
    "        return True\n",
    "    else:\n",
    "        return False\n",
    "\n",
    "# Get the input from the user\n",
    "start = int(input(\"Enter the starting number of the interval: \"))\n",
    "end = int(input(\"Enter the ending number of the interval: \"))\n",
    "\n",
    "# Find Armstrong numbers within the interval\n",
    "armstrong_numbers = []\n",
    "for number in range(start, end + 1):\n",
    "    if is_armstrong_number(number):\n",
    "        armstrong_numbers.append(number)\n",
    "\n",
    "# Print the Armstrong numbers\n",
    "print(\"Armstrong numbers within the interval\", start, \"and\", end, \"are:\")\n",
    "for armstrong_number in armstrong_numbers:\n",
    "    print(armstrong_number)\n"
   ]
  },
  {
   "cell_type": "code",
   "execution_count": 17,
   "id": "ce671d73-0d1b-4558-8555-f4fda8c98813",
   "metadata": {},
   "outputs": [
    {
     "name": "stdin",
     "output_type": "stream",
     "text": [
      "Enter a positive number:  6\n"
     ]
    },
    {
     "name": "stdout",
     "output_type": "stream",
     "text": [
      "The sum of natural numbers up to 6 is 21\n"
     ]
    }
   ],
   "source": [
    "#6. Write a Python Program to Find the Sum of Natural Numbers?\n",
    "def sum_of_natural_numbers(n):\n",
    "    if n < 0:\n",
    "        return \"Enter a positive number.\"\n",
    "    else:\n",
    "        sum = 0\n",
    "        for i in range(1, n + 1):\n",
    "            sum += i\n",
    "        return sum\n",
    "\n",
    "# Get the input from the user\n",
    "number = int(input(\"Enter a positive number: \"))\n",
    "\n",
    "# Calculate the sum of natural numbers\n",
    "result = sum_of_natural_numbers(number)\n",
    "\n",
    "# Print the result\n",
    "print(\"The sum of natural numbers up to\", number, \"is\", result)\n"
   ]
  },
  {
   "cell_type": "code",
   "execution_count": null,
   "id": "8fce3c36-23f2-47ac-99b6-f55b2d714a5b",
   "metadata": {},
   "outputs": [],
   "source": []
  }
 ],
 "metadata": {
  "kernelspec": {
   "display_name": "Python 3 (ipykernel)",
   "language": "python",
   "name": "python3"
  },
  "language_info": {
   "codemirror_mode": {
    "name": "ipython",
    "version": 3
   },
   "file_extension": ".py",
   "mimetype": "text/x-python",
   "name": "python",
   "nbconvert_exporter": "python",
   "pygments_lexer": "ipython3",
   "version": "3.10.6"
  }
 },
 "nbformat": 4,
 "nbformat_minor": 5
}
