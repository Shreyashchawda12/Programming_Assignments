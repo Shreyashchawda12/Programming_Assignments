{
 "cells": [
  {
   "cell_type": "code",
   "execution_count": 1,
   "id": "906978b3-f2e1-4c41-a2e4-d46d58898139",
   "metadata": {},
   "outputs": [
    {
     "name": "stdin",
     "output_type": "stream",
     "text": [
      "Enter the first number:  12\n",
      "Enter the second number:  23\n"
     ]
    },
    {
     "name": "stdout",
     "output_type": "stream",
     "text": [
      "The LCM of 12 and 23 is 276\n"
     ]
    }
   ],
   "source": [
    "#1. Write a Python Program to Find LCM?\n",
    "def find_lcm(a, b):\n",
    "    # Find the maximum of the two numbers\n",
    "    max_num = max(a, b)\n",
    "\n",
    "    # Start with the maximum number as the LCM and increment by 1\n",
    "    lcm = max_num\n",
    "\n",
    "    # Keep incrementing the LCM until it is divisible by both numbers\n",
    "    while True:\n",
    "        if lcm % a == 0 and lcm % b == 0:\n",
    "            return lcm\n",
    "        lcm += max_num\n",
    "\n",
    "# Get the input from the user\n",
    "num1 = int(input(\"Enter the first number: \"))\n",
    "num2 = int(input(\"Enter the second number: \"))\n",
    "\n",
    "# Find the LCM\n",
    "lcm = find_lcm(num1, num2)\n",
    "\n",
    "# Print the result\n",
    "print(\"The LCM of\", num1, \"and\", num2, \"is\", lcm)\n"
   ]
  },
  {
   "cell_type": "code",
   "execution_count": 2,
   "id": "e7d88dde-ec8e-42f1-b043-8a0060299eab",
   "metadata": {},
   "outputs": [
    {
     "name": "stdin",
     "output_type": "stream",
     "text": [
      "Enter the first number:  33\n",
      "Enter the second number:  22\n"
     ]
    },
    {
     "name": "stdout",
     "output_type": "stream",
     "text": [
      "The HCF of 33 and 22 is 11\n"
     ]
    }
   ],
   "source": [
    "#2. Write a Python Program to Find HCF?\n",
    "def find_hcf(a, b):\n",
    "    # Find the smaller of the two numbers\n",
    "    min_num = min(a, b)\n",
    "\n",
    "    # Initialize the HCF to 1\n",
    "    hcf = 1\n",
    "\n",
    "    # Find the factors of the smaller number and check if they divide both numbers\n",
    "    for i in range(1, min_num + 1):\n",
    "        if a % i == 0 and b % i == 0:\n",
    "            hcf = i\n",
    "\n",
    "    return hcf\n",
    "\n",
    "# Get the input from the user\n",
    "num1 = int(input(\"Enter the first number: \"))\n",
    "num2 = int(input(\"Enter the second number: \"))\n",
    "\n",
    "# Find the HCF\n",
    "hcf = find_hcf(num1, num2)\n",
    "\n",
    "# Print the result\n",
    "print(\"The HCF of\", num1, \"and\", num2, \"is\", hcf)\n"
   ]
  },
  {
   "cell_type": "code",
   "execution_count": 3,
   "id": "b5b27d46-844f-417b-af39-d080ed2063db",
   "metadata": {},
   "outputs": [
    {
     "name": "stdin",
     "output_type": "stream",
     "text": [
      "Enter a decimal number:  5\n"
     ]
    },
    {
     "name": "stdout",
     "output_type": "stream",
     "text": [
      "Binary: 101\n",
      "Octal: 5\n",
      "Hexadecimal: 5\n"
     ]
    }
   ],
   "source": [
    "#3. Write a Python Program to Convert Decimal to Binary, Octal and Hexadecimal?\n",
    "def decimal_to_binary(decimal):\n",
    "    return bin(decimal)[2:]\n",
    "\n",
    "def decimal_to_octal(decimal):\n",
    "    return oct(decimal)[2:]\n",
    "\n",
    "def decimal_to_hexadecimal(decimal):\n",
    "    return hex(decimal)[2:]\n",
    "\n",
    "# Get the input from the user\n",
    "decimal = int(input(\"Enter a decimal number: \"))\n",
    "\n",
    "# Convert decimal to binary\n",
    "binary = decimal_to_binary(decimal)\n",
    "\n",
    "# Convert decimal to octal\n",
    "octal = decimal_to_octal(decimal)\n",
    "\n",
    "# Convert decimal to hexadecimal\n",
    "hexadecimal = decimal_to_hexadecimal(decimal)\n",
    "\n",
    "# Print the results\n",
    "print(\"Binary:\", binary)\n",
    "print(\"Octal:\", octal)\n",
    "print(\"Hexadecimal:\", hexadecimal)\n"
   ]
  },
  {
   "cell_type": "code",
   "execution_count": 4,
   "id": "7433f0bc-5889-4991-a6aa-a4386da761dc",
   "metadata": {},
   "outputs": [
    {
     "name": "stdin",
     "output_type": "stream",
     "text": [
      "Enter a character:  4\n"
     ]
    },
    {
     "name": "stdout",
     "output_type": "stream",
     "text": [
      "The ASCII value of 4 is 52\n"
     ]
    }
   ],
   "source": [
    "#4. Write a Python Program To Find ASCII value of a character?\n",
    "# Get the input from the user\n",
    "character = input(\"Enter a character: \")\n",
    "\n",
    "# Find the ASCII value of the character\n",
    "ascii_value = ord(character)\n",
    "\n",
    "# Print the result\n",
    "print(\"The ASCII value of\", character, \"is\", ascii_value)\n"
   ]
  },
  {
   "cell_type": "code",
   "execution_count": 5,
   "id": "a48bcade-7f1f-4807-ab96-f637183a8154",
   "metadata": {},
   "outputs": [
    {
     "name": "stdin",
     "output_type": "stream",
     "text": [
      "Enter the first number:  33\n",
      "Enter the operator (+, -, *, /):  +\n",
      "Enter the second number:  44\n"
     ]
    },
    {
     "name": "stdout",
     "output_type": "stream",
     "text": [
      "Result: 77.0\n"
     ]
    }
   ],
   "source": [
    "#5. Write a Python Program to Make a Simple Calculator with 4 basic mathematical operations?\n",
    "def add(a, b):\n",
    "    return a + b\n",
    "\n",
    "def subtract(a, b):\n",
    "    return a - b\n",
    "\n",
    "def multiply(a, b):\n",
    "    return a * b\n",
    "\n",
    "def divide(a, b):\n",
    "    if b != 0:\n",
    "        return a / b\n",
    "    else:\n",
    "        return \"Error: Cannot divide by zero\"\n",
    "\n",
    "# Get the input from the user\n",
    "num1 = float(input(\"Enter the first number: \"))\n",
    "operator = input(\"Enter the operator (+, -, *, /): \")\n",
    "num2 = float(input(\"Enter the second number: \"))\n",
    "\n",
    "# Perform the calculation based on the operator\n",
    "result = None\n",
    "if operator == \"+\":\n",
    "    result = add(num1, num2)\n",
    "elif operator == \"-\":\n",
    "    result = subtract(num1, num2)\n",
    "elif operator == \"*\":\n",
    "    result = multiply(num1, num2)\n",
    "elif operator == \"/\":\n",
    "    result = divide(num1, num2)\n",
    "else:\n",
    "    print(\"Error: Invalid operator\")\n",
    "\n",
    "# Print the result if it is calculated successfully\n",
    "if result is not None:\n",
    "    print(\"Result:\", result)\n"
   ]
  },
  {
   "cell_type": "code",
   "execution_count": null,
   "id": "cae1f6f7-9b0b-4c28-b6ed-6a6ffe895b5c",
   "metadata": {},
   "outputs": [],
   "source": []
  }
 ],
 "metadata": {
  "kernelspec": {
   "display_name": "Python 3 (ipykernel)",
   "language": "python",
   "name": "python3"
  },
  "language_info": {
   "codemirror_mode": {
    "name": "ipython",
    "version": 3
   },
   "file_extension": ".py",
   "mimetype": "text/x-python",
   "name": "python",
   "nbconvert_exporter": "python",
   "pygments_lexer": "ipython3",
   "version": "3.10.6"
  }
 },
 "nbformat": 4,
 "nbformat_minor": 5
}
