{
 "cells": [
  {
   "cell_type": "code",
   "execution_count": 1,
   "id": "38abdba9-32e9-4b0b-8ead-6dcbc7d6e6b3",
   "metadata": {},
   "outputs": [
    {
     "name": "stdin",
     "output_type": "stream",
     "text": [
      "Enter the number of rows for matrix 1:  4\n",
      "Enter the number of columns for matrix 1:  4\n"
     ]
    },
    {
     "name": "stdout",
     "output_type": "stream",
     "text": [
      "Enter the elements of matrix 1:\n"
     ]
    },
    {
     "name": "stdin",
     "output_type": "stream",
     "text": [
      "Enter element at position (0, 0):  1\n",
      "Enter element at position (0, 1):  1\n",
      "Enter element at position (0, 2):  1\n",
      "Enter element at position (0, 3):  1\n",
      "Enter element at position (1, 0):  1\n",
      "Enter element at position (1, 1):  1\n",
      "Enter element at position (1, 2):  1\n",
      "Enter element at position (1, 3):  1\n",
      "Enter element at position (2, 0):  1\n",
      "Enter element at position (2, 1):  1\n",
      "Enter element at position (2, 2):  1\n",
      "Enter element at position (2, 3):  1\n",
      "Enter element at position (3, 0):  1\n",
      "Enter element at position (3, 1):  1\n",
      "Enter element at position (3, 2):  1\n",
      "Enter element at position (3, 3):  1\n",
      "Enter the number of rows for matrix 2:  4\n",
      "Enter the number of columns for matrix 2:  4\n"
     ]
    },
    {
     "name": "stdout",
     "output_type": "stream",
     "text": [
      "Enter the elements of matrix 2:\n"
     ]
    },
    {
     "name": "stdin",
     "output_type": "stream",
     "text": [
      "Enter element at position (0, 0):  2\n",
      "Enter element at position (0, 1):  2\n",
      "Enter element at position (0, 2):  2\n",
      "Enter element at position (0, 3):  2\n",
      "Enter element at position (1, 0):  2\n",
      "Enter element at position (1, 1):  2\n",
      "Enter element at position (1, 2):  2\n",
      "Enter element at position (1, 3):  2\n",
      "Enter element at position (2, 0):  2\n",
      "Enter element at position (2, 1):  2\n",
      "Enter element at position (2, 2):  2\n",
      "Enter element at position (2, 3):  2\n",
      "Enter element at position (3, 0):  2\n",
      "Enter element at position (3, 1):  2\n",
      "Enter element at position (3, 2):  2\n",
      "Enter element at position (3, 3):  2\n"
     ]
    },
    {
     "name": "stdout",
     "output_type": "stream",
     "text": [
      "The sum of the matrices is:\n",
      "[3, 3, 3, 3]\n",
      "[3, 3, 3, 3]\n",
      "[3, 3, 3, 3]\n",
      "[3, 3, 3, 3]\n"
     ]
    }
   ],
   "source": [
    "#1. Write a Python Program to Add Two Matrices?\n",
    "def add_matrices(matrix1, matrix2):\n",
    "    rows = len(matrix1)\n",
    "    columns = len(matrix1[0])\n",
    "\n",
    "    # Create a result matrix of the same size as the input matrices\n",
    "    result = [[0] * columns for _ in range(rows)]\n",
    "\n",
    "    # Add corresponding elements from both matrices\n",
    "    for i in range(rows):\n",
    "        for j in range(columns):\n",
    "            result[i][j] = matrix1[i][j] + matrix2[i][j]\n",
    "\n",
    "    return result\n",
    "\n",
    "# Get the input from the user for the first matrix\n",
    "rows1 = int(input(\"Enter the number of rows for matrix 1: \"))\n",
    "columns1 = int(input(\"Enter the number of columns for matrix 1: \"))\n",
    "\n",
    "matrix1 = []\n",
    "print(\"Enter the elements of matrix 1:\")\n",
    "for i in range(rows1):\n",
    "    row = []\n",
    "    for j in range(columns1):\n",
    "        element = int(input(\"Enter element at position ({}, {}): \".format(i, j)))\n",
    "        row.append(element)\n",
    "    matrix1.append(row)\n",
    "\n",
    "# Get the input from the user for the second matrix\n",
    "rows2 = int(input(\"Enter the number of rows for matrix 2: \"))\n",
    "columns2 = int(input(\"Enter the number of columns for matrix 2: \"))\n",
    "\n",
    "matrix2 = []\n",
    "print(\"Enter the elements of matrix 2:\")\n",
    "for i in range(rows2):\n",
    "    row = []\n",
    "    for j in range(columns2):\n",
    "        element = int(input(\"Enter element at position ({}, {}): \".format(i, j)))\n",
    "        row.append(element)\n",
    "    matrix2.append(row)\n",
    "\n",
    "# Check if matrix addition is possible\n",
    "if rows1 == rows2 and columns1 == columns2:\n",
    "    # Add the matrices\n",
    "    result_matrix = add_matrices(matrix1, matrix2)\n",
    "    # Print the result\n",
    "    print(\"The sum of the matrices is:\")\n",
    "    for row in result_matrix:\n",
    "        print(row)\n",
    "else:\n",
    "    print(\"Matrix addition is not possible. The matrices have different dimensions.\")\n"
   ]
  },
  {
   "cell_type": "code",
   "execution_count": 2,
   "id": "9a3e0027-5935-4774-bf4d-c623b8ee4686",
   "metadata": {},
   "outputs": [
    {
     "name": "stdout",
     "output_type": "stream",
     "text": [
      "Result:\n",
      "[76, 82]\n",
      "[184, 199]\n",
      "[292, 316]\n"
     ]
    }
   ],
   "source": [
    "#2. Write a Python Program to Multiply Two Matrices?\n",
    "def multiply_matrices(matrix1, matrix2):\n",
    "    # Check if matrices can be multiplied\n",
    "    if len(matrix1[0]) != len(matrix2):\n",
    "        print(\"Cannot multiply the matrices. Invalid dimensions.\")\n",
    "        return None\n",
    "    \n",
    "    # Initialize the result matrix with zeros\n",
    "    result = [[0 for _ in range(len(matrix2[0]))] for _ in range(len(matrix1))]\n",
    "    \n",
    "    # Perform matrix multiplication\n",
    "    for i in range(len(matrix1)):\n",
    "        for j in range(len(matrix2[0])):\n",
    "            for k in range(len(matrix2)):\n",
    "                result[i][j] += matrix1[i][k] * matrix2[k][j]\n",
    "    \n",
    "    return result\n",
    "\n",
    "# Example matrices\n",
    "matrix1 = [[1, 2, 3],\n",
    "           [4, 5, 6],\n",
    "           [7, 8, 9]]\n",
    "\n",
    "matrix2 = [[10, 11],\n",
    "           [12, 13],\n",
    "           [14, 15]]\n",
    "\n",
    "# Multiply the matrices\n",
    "result = multiply_matrices(matrix1, matrix2)\n",
    "\n",
    "# Print the result\n",
    "if result is not None:\n",
    "    print(\"Result:\")\n",
    "    for row in result:\n",
    "        print(row)\n"
   ]
  },
  {
   "cell_type": "code",
   "execution_count": 3,
   "id": "30fcd25a-18fe-4631-b823-730da08a1f07",
   "metadata": {},
   "outputs": [
    {
     "name": "stdout",
     "output_type": "stream",
     "text": [
      "Original matrix:\n",
      "[1, 2, 3]\n",
      "[4, 5, 6]\n",
      "[7, 8, 9]\n",
      "Transposed matrix:\n",
      "[1, 4, 7]\n",
      "[2, 5, 8]\n",
      "[3, 6, 9]\n"
     ]
    }
   ],
   "source": [
    "#3. Write a Python Program to Transpose a Matrix?\n",
    "def transpose_matrix(matrix):\n",
    "    rows = len(matrix)\n",
    "    cols = len(matrix[0])\n",
    "\n",
    "    # Create a new matrix with swapped dimensions\n",
    "    transposed_matrix = [[0 for _ in range(rows)] for _ in range(cols)]\n",
    "\n",
    "    # Iterate over the original matrix and assign values to the transposed matrix\n",
    "    for i in range(rows):\n",
    "        for j in range(cols):\n",
    "            transposed_matrix[j][i] = matrix[i][j]\n",
    "\n",
    "    return transposed_matrix\n",
    "\n",
    "# Example matrix\n",
    "matrix = [[1, 2, 3],\n",
    "          [4, 5, 6],\n",
    "          [7, 8, 9]]\n",
    "\n",
    "# Transpose the matrix\n",
    "transposed = transpose_matrix(matrix)\n",
    "\n",
    "# Print the original matrix\n",
    "print(\"Original matrix:\")\n",
    "for row in matrix:\n",
    "    print(row)\n",
    "\n",
    "# Print the transposed matrix\n",
    "print(\"Transposed matrix:\")\n",
    "for row in transposed:\n",
    "    print(row)\n"
   ]
  },
  {
   "cell_type": "code",
   "execution_count": 4,
   "id": "a061c5d7-fe05-4101-9350-9f18eba704c4",
   "metadata": {},
   "outputs": [
    {
     "name": "stdout",
     "output_type": "stream",
     "text": [
      "Sorted words:\n",
      "apple\n",
      "banana\n",
      "cat\n",
      "dog\n",
      "elephant\n"
     ]
    }
   ],
   "source": [
    "#4. Write a Python Program to Sort Words in Alphabetic Order?\n",
    "def sort_words(words):\n",
    "    # Convert the words to lowercase for case-insensitive sorting\n",
    "    words = [word.lower() for word in words]\n",
    "    \n",
    "    # Sort the words in alphabetical order\n",
    "    sorted_words = sorted(words)\n",
    "    \n",
    "    return sorted_words\n",
    "\n",
    "# Example list of words\n",
    "word_list = [\"Apple\", \"banana\", \"Cat\", \"dog\", \"elephant\"]\n",
    "\n",
    "# Sort the words\n",
    "sorted_words = sort_words(word_list)\n",
    "\n",
    "# Print the sorted words\n",
    "print(\"Sorted words:\")\n",
    "for word in sorted_words:\n",
    "    print(word)\n"
   ]
  },
  {
   "cell_type": "code",
   "execution_count": 8,
   "id": "65874f54-d332-4c0a-a231-7ed026787c4a",
   "metadata": {},
   "outputs": [
    {
     "name": "stdout",
     "output_type": "stream",
     "text": [
      "Text without punctuation: Hey Hi How are you\n"
     ]
    }
   ],
   "source": [
    "#5. Write a Python Program to Remove Punctuation From a String?\n",
    "import string\n",
    "\n",
    "def remove_punctuation(text):\n",
    "    # Create a translation table using string.punctuation\n",
    "    translator = str.maketrans(\"\", \"\", string.punctuation)\n",
    "    \n",
    "    # Remove punctuation using the translation table\n",
    "    text_without_punctuation = text.translate(translator)\n",
    "    \n",
    "    return text_without_punctuation\n",
    "\n",
    "# Example string\n",
    "text = \"Hey....!!! Hi... How are you??????\"\n",
    "\n",
    "# Remove punctuation from the string\n",
    "text_without_punctuation = remove_punctuation(text)\n",
    "\n",
    "# Print the string without punctuation\n",
    "print(\"Text without punctuation:\", text_without_punctuation)\n",
    "\n"
   ]
  },
  {
   "cell_type": "code",
   "execution_count": null,
   "id": "3966ab1f-9601-4138-b76f-880e199331e9",
   "metadata": {},
   "outputs": [],
   "source": []
  }
 ],
 "metadata": {
  "kernelspec": {
   "display_name": "Python 3 (ipykernel)",
   "language": "python",
   "name": "python3"
  },
  "language_info": {
   "codemirror_mode": {
    "name": "ipython",
    "version": 3
   },
   "file_extension": ".py",
   "mimetype": "text/x-python",
   "name": "python",
   "nbconvert_exporter": "python",
   "pygments_lexer": "ipython3",
   "version": "3.10.6"
  }
 },
 "nbformat": 4,
 "nbformat_minor": 5
}
