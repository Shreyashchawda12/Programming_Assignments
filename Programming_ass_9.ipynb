{
 "cells": [
  {
   "cell_type": "code",
   "execution_count": 1,
   "id": "1671a84a-13c0-4f4b-aa96-3a2420e197cf",
   "metadata": {},
   "outputs": [
    {
     "name": "stdout",
     "output_type": "stream",
     "text": [
      "175 is a Disarium number.\n"
     ]
    }
   ],
   "source": [
    "#1. Write a Python program to check if the given number is a Disarium Number?\n",
    "def is_disarium_number(number):\n",
    "    # Convert the number to string to iterate over digits\n",
    "    num_str = str(number)\n",
    "    \n",
    "    # Calculate the sum of digits raised to their respective positions\n",
    "    sum_of_powers = sum(int(digit) ** (index + 1) for index, digit in enumerate(num_str))\n",
    "    \n",
    "    # Check if the sum is equal to the original number\n",
    "    if sum_of_powers == number:\n",
    "        return True\n",
    "    else:\n",
    "        return False\n",
    "\n",
    "# Example number\n",
    "number = 175\n",
    "\n",
    "# Check if the number is a Disarium number\n",
    "if is_disarium_number(number):\n",
    "    print(number, \"is a Disarium number.\")\n",
    "else:\n",
    "    print(number, \"is not a Disarium number.\")\n"
   ]
  },
  {
   "cell_type": "code",
   "execution_count": 2,
   "id": "a8b485f3-1231-49db-9a56-6a38836dc4b4",
   "metadata": {},
   "outputs": [
    {
     "name": "stdout",
     "output_type": "stream",
     "text": [
      "Disarium numbers between 1 and 100:\n",
      "1\n",
      "2\n",
      "3\n",
      "4\n",
      "5\n",
      "6\n",
      "7\n",
      "8\n",
      "9\n",
      "89\n"
     ]
    }
   ],
   "source": [
    "#2. Write a Python program to print all disarium numbers between 1 to 100?\n",
    "def is_disarium_number(number):\n",
    "    num_str = str(number)\n",
    "    sum_of_powers = sum(int(digit) ** (index + 1) for index, digit in enumerate(num_str))\n",
    "    return sum_of_powers == number\n",
    "\n",
    "print(\"Disarium numbers between 1 and 100:\")\n",
    "for i in range(1, 101):\n",
    "    if is_disarium_number(i):\n",
    "        print(i)\n"
   ]
  },
  {
   "cell_type": "code",
   "execution_count": 5,
   "id": "398a7864-0288-4997-ba67-07494726ffa1",
   "metadata": {},
   "outputs": [
    {
     "name": "stdin",
     "output_type": "stream",
     "text": [
      "Enter a number:  33\n"
     ]
    },
    {
     "name": "stdout",
     "output_type": "stream",
     "text": [
      "33 is not a happy number.\n"
     ]
    }
   ],
   "source": [
    "#3. Write a Python program to check if the given number is Happy Number?\n",
    "def is_happy_number(n):\n",
    "    visited = set()\n",
    "    while n != 1 and n not in visited:\n",
    "        visited.add(n)\n",
    "        n = sum(int(digit) ** 2 for digit in str(n))\n",
    "    return n == 1\n",
    "\n",
    "# Example usage\n",
    "number = int(input(\"Enter a number: \"))\n",
    "if is_happy_number(number):\n",
    "    print(number, \"is a happy number.\")\n",
    "else:\n",
    "    print(number, \"is not a happy number.\")\n"
   ]
  },
  {
   "cell_type": "code",
   "execution_count": 6,
   "id": "6b78a3cc-7d11-4acd-8a07-c75f4980503c",
   "metadata": {},
   "outputs": [
    {
     "name": "stdout",
     "output_type": "stream",
     "text": [
      "Happy numbers between 1 and 100 are:\n",
      "[1, 7, 10, 13, 19, 23, 28, 31, 32, 44, 49, 68, 70, 79, 82, 86, 91, 94, 97, 100]\n"
     ]
    }
   ],
   "source": [
    "#4. Write a Python program to print all happy numbers between 1 and 100?\n",
    "def is_happy_number(n):\n",
    "    visited = set()\n",
    "    while n != 1 and n not in visited:\n",
    "        visited.add(n)\n",
    "        n = sum(int(digit) ** 2 for digit in str(n))\n",
    "    return n == 1\n",
    "\n",
    "def print_happy_numbers(start, end):\n",
    "    happy_numbers = []\n",
    "    for num in range(start, end+1):\n",
    "        if is_happy_number(num):\n",
    "            happy_numbers.append(num)\n",
    "    print(\"Happy numbers between\", start, \"and\", end, \"are:\")\n",
    "    print(happy_numbers)\n",
    "\n",
    "# Print happy numbers between 1 and 100\n",
    "print_happy_numbers(1, 100)\n"
   ]
  },
  {
   "cell_type": "code",
   "execution_count": 7,
   "id": "3a14af80-28da-4c6c-b884-bfafc35e25b6",
   "metadata": {},
   "outputs": [
    {
     "name": "stdin",
     "output_type": "stream",
     "text": [
      "Enter a number:  56\n"
     ]
    },
    {
     "name": "stdout",
     "output_type": "stream",
     "text": [
      "56 is not a Harshad number.\n"
     ]
    }
   ],
   "source": [
    "#5. Write a Python program to determine whether the given number is a Harshad Number?\n",
    "def is_harshad_number(n):\n",
    "    digit_sum = sum(int(digit) for digit in str(n))\n",
    "    return n % digit_sum == 0\n",
    "\n",
    "# Example usage\n",
    "number = int(input(\"Enter a number: \"))\n",
    "if is_harshad_number(number):\n",
    "    print(number, \"is a Harshad number.\")\n",
    "else:\n",
    "    print(number, \"is not a Harshad number.\")\n"
   ]
  },
  {
   "cell_type": "code",
   "execution_count": 8,
   "id": "c8c6edd6-c2e6-4ae2-958d-8522dfcf42dd",
   "metadata": {},
   "outputs": [
    {
     "name": "stdout",
     "output_type": "stream",
     "text": [
      "Pronic numbers between 1 and 100 are:\n",
      "[2, 6, 12, 20, 30, 42, 56, 72, 90, 110, 132, 156, 182, 210, 240, 272, 306, 342, 380, 420, 462, 506, 552, 600, 650, 702, 756, 812, 870, 930, 992, 1056, 1122, 1190, 1260, 1332, 1406, 1482, 1560, 1640, 1722, 1806, 1892, 1980, 2070, 2162, 2256, 2352, 2450, 2550, 2652, 2756, 2862, 2970, 3080, 3192, 3306, 3422, 3540, 3660, 3782, 3906, 4032, 4160, 4290, 4422, 4556, 4692, 4830, 4970, 5112, 5256, 5402, 5550, 5700, 5852, 6006, 6162, 6320, 6480, 6642, 6806, 6972, 7140, 7310, 7482, 7656, 7832, 8010, 8190, 8372, 8556, 8742, 8930, 9120, 9312, 9506, 9702, 9900, 10100]\n"
     ]
    }
   ],
   "source": [
    "#6. Write a Python program to print all pronic numbers between 1 and 100?\n",
    "def print_pronic_numbers(start, end):\n",
    "    pronic_numbers = []\n",
    "    for n in range(start, end+1):\n",
    "        product = n * (n + 1)\n",
    "        pronic_numbers.append(product)\n",
    "    print(\"Pronic numbers between\", start, \"and\", end, \"are:\")\n",
    "    print(pronic_numbers)\n",
    "\n",
    "# Print pronic numbers between 1 and 100\n",
    "print_pronic_numbers(1, 100)\n"
   ]
  },
  {
   "cell_type": "code",
   "execution_count": null,
   "id": "30ffd60c-2942-448e-82be-14c238499ee8",
   "metadata": {},
   "outputs": [],
   "source": []
  }
 ],
 "metadata": {
  "kernelspec": {
   "display_name": "Python 3 (ipykernel)",
   "language": "python",
   "name": "python3"
  },
  "language_info": {
   "codemirror_mode": {
    "name": "ipython",
    "version": 3
   },
   "file_extension": ".py",
   "mimetype": "text/x-python",
   "name": "python",
   "nbconvert_exporter": "python",
   "pygments_lexer": "ipython3",
   "version": "3.10.6"
  }
 },
 "nbformat": 4,
 "nbformat_minor": 5
}
