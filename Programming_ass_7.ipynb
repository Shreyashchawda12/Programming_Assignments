{
 "cells": [
  {
   "cell_type": "code",
   "execution_count": 1,
   "id": "7795de93-7997-44d4-bbae-bf1340eaf2e4",
   "metadata": {},
   "outputs": [
    {
     "name": "stdin",
     "output_type": "stream",
     "text": [
      "Enter the size of the array:  4\n",
      "Enter element at index 0:  1\n",
      "Enter element at index 1:  2\n",
      "Enter element at index 2:  3\n",
      "Enter element at index 3:  4\n"
     ]
    },
    {
     "name": "stdout",
     "output_type": "stream",
     "text": [
      "The sum of the array is 10\n"
     ]
    }
   ],
   "source": [
    "#1. Write a Python Program to find sum of array?\n",
    "def array_sum(arr):\n",
    "    sum = 0\n",
    "    for num in arr:\n",
    "        sum += num\n",
    "    return sum\n",
    "\n",
    "# Get the input from the user\n",
    "size = int(input(\"Enter the size of the array: \"))\n",
    "\n",
    "# Create an empty array\n",
    "arr = []\n",
    "\n",
    "# Get the elements of the array from the user\n",
    "for i in range(size):\n",
    "    element = int(input(\"Enter element at index {}: \".format(i)))\n",
    "    arr.append(element)\n",
    "\n",
    "# Calculate the sum of the array\n",
    "result = array_sum(arr)\n",
    "\n",
    "# Print the result\n",
    "print(\"The sum of the array is\", result)\n"
   ]
  },
  {
   "cell_type": "code",
   "execution_count": 2,
   "id": "7f828a20-9aa7-491d-8c42-3436cb87566a",
   "metadata": {},
   "outputs": [
    {
     "name": "stdin",
     "output_type": "stream",
     "text": [
      "Enter the size of the array:  5\n",
      "Enter element at index 0:  1\n",
      "Enter element at index 1:  2\n",
      "Enter element at index 2:  3\n",
      "Enter element at index 3:  4\n",
      "Enter element at index 4:  5\n"
     ]
    },
    {
     "name": "stdout",
     "output_type": "stream",
     "text": [
      "The largest element in the array is 5\n"
     ]
    }
   ],
   "source": [
    "#2. Write a Python Program to find largest element in an array?\n",
    "def find_largest_element(arr):\n",
    "    if len(arr) == 0:\n",
    "        return None\n",
    "    else:\n",
    "        largest = arr[0]\n",
    "        for num in arr:\n",
    "            if num > largest:\n",
    "                largest = num\n",
    "        return largest\n",
    "\n",
    "# Get the input from the user\n",
    "size = int(input(\"Enter the size of the array: \"))\n",
    "\n",
    "# Create an empty array\n",
    "arr = []\n",
    "\n",
    "# Get the elements of the array from the user\n",
    "for i in range(size):\n",
    "    element = int(input(\"Enter element at index {}: \".format(i)))\n",
    "    arr.append(element)\n",
    "\n",
    "# Find the largest element in the array\n",
    "result = find_largest_element(arr)\n",
    "\n",
    "# Print the result\n",
    "if result is None:\n",
    "    print(\"The array is empty.\")\n",
    "else:\n",
    "    print(\"The largest element in the array is\", result)\n"
   ]
  },
  {
   "cell_type": "code",
   "execution_count": 3,
   "id": "ebed370b-47bd-40dc-a23e-9d725e6a5712",
   "metadata": {},
   "outputs": [
    {
     "name": "stdin",
     "output_type": "stream",
     "text": [
      "Enter the size of the array:  6\n",
      "Enter element at index 0:  3\n",
      "Enter element at index 1:  4\n",
      "Enter element at index 2:  5\n",
      "Enter element at index 3:  4\n",
      "Enter element at index 4:  3\n",
      "Enter element at index 5:  2\n",
      "Enter the number of rotations:  1\n"
     ]
    },
    {
     "name": "stdout",
     "output_type": "stream",
     "text": [
      "The rotated array is: [4, 5, 4, 3, 2, 3]\n"
     ]
    }
   ],
   "source": [
    "#3. Write a Python Program for array rotation?\n",
    "def rotate_array(arr, k):\n",
    "    n = len(arr)\n",
    "    # Normalize rotation count if it exceeds array length\n",
    "    k = k % n\n",
    "\n",
    "    rotated_arr = arr[k:] + arr[:k]\n",
    "    return rotated_arr\n",
    "\n",
    "# Get the input from the user\n",
    "size = int(input(\"Enter the size of the array: \"))\n",
    "\n",
    "# Create an empty array\n",
    "arr = []\n",
    "\n",
    "# Get the elements of the array from the user\n",
    "for i in range(size):\n",
    "    element = int(input(\"Enter element at index {}: \".format(i)))\n",
    "    arr.append(element)\n",
    "\n",
    "# Get the rotation count from the user\n",
    "rotation_count = int(input(\"Enter the number of rotations: \"))\n",
    "\n",
    "# Rotate the array\n",
    "rotated_array = rotate_array(arr, rotation_count)\n",
    "\n",
    "# Print the rotated array\n",
    "print(\"The rotated array is:\", rotated_array)\n"
   ]
  },
  {
   "cell_type": "code",
   "execution_count": 4,
   "id": "3d9612d2-9a66-450b-bd1b-9874a4a476bc",
   "metadata": {},
   "outputs": [
    {
     "name": "stdin",
     "output_type": "stream",
     "text": [
      "Enter the size of the array:  6\n",
      "Enter element at index 0:  1\n",
      "Enter element at index 1:  2\n",
      "Enter element at index 2:  3\n",
      "Enter element at index 3:  4\n",
      "Enter element at index 4:  5\n",
      "Enter element at index 5:  6\n",
      "Enter the number of elements to split:  2\n"
     ]
    },
    {
     "name": "stdout",
     "output_type": "stream",
     "text": [
      "The split and added array is: [3, 4, 5, 6, 1, 2]\n"
     ]
    }
   ],
   "source": [
    "#4. Write a Python Program to Split the array and add the first part to the end?\n",
    "def split_and_add(arr, k):\n",
    "    n = len(arr)\n",
    "    # Normalize rotation count if it exceeds array length\n",
    "    k = k % n\n",
    "\n",
    "    split_arr = arr[k:] + arr[:k]\n",
    "    return split_arr\n",
    "\n",
    "# Get the input from the user\n",
    "size = int(input(\"Enter the size of the array: \"))\n",
    "\n",
    "# Create an empty array\n",
    "arr = []\n",
    "\n",
    "# Get the elements of the array from the user\n",
    "for i in range(size):\n",
    "    element = int(input(\"Enter element at index {}: \".format(i)))\n",
    "    arr.append(element)\n",
    "\n",
    "# Get the split count from the user\n",
    "split_count = int(input(\"Enter the number of elements to split: \"))\n",
    "\n",
    "# Split the array and add the first part to the end\n",
    "split_array = split_and_add(arr, split_count)\n",
    "\n",
    "# Print the split array\n",
    "print(\"The split and added array is:\", split_array)\n"
   ]
  },
  {
   "cell_type": "code",
   "execution_count": 5,
   "id": "4c1aa15f-a338-4290-8554-8b29271bfda3",
   "metadata": {},
   "outputs": [
    {
     "name": "stdin",
     "output_type": "stream",
     "text": [
      "Enter the size of the array:  5\n",
      "Enter element at index 0:  1\n",
      "Enter element at index 1:  2\n",
      "Enter element at index 2:  3\n",
      "Enter element at index 3:  4\n",
      "Enter element at index 4:  5\n"
     ]
    },
    {
     "name": "stdout",
     "output_type": "stream",
     "text": [
      "The given array is monotonic.\n"
     ]
    }
   ],
   "source": [
    "#5. Write a Python Program to check if given array is Monotonic?\n",
    "def is_monotonic(arr):\n",
    "    n = len(arr)\n",
    "    if n <= 2:\n",
    "        return True\n",
    "\n",
    "    increasing = decreasing = True\n",
    "    for i in range(1, n):\n",
    "        if arr[i] > arr[i-1]:\n",
    "            decreasing = False\n",
    "        elif arr[i] < arr[i-1]:\n",
    "            increasing = False\n",
    "\n",
    "    return increasing or decreasing\n",
    "\n",
    "# Get the input from the user\n",
    "size = int(input(\"Enter the size of the array: \"))\n",
    "\n",
    "# Create an empty array\n",
    "arr = []\n",
    "\n",
    "# Get the elements of the array from the user\n",
    "for i in range(size):\n",
    "    element = int(input(\"Enter element at index {}: \".format(i)))\n",
    "    arr.append(element)\n",
    "\n",
    "# Check if the array is monotonic\n",
    "is_monotonic_array = is_monotonic(arr)\n",
    "\n",
    "# Print the result\n",
    "if is_monotonic_array:\n",
    "    print(\"The given array is monotonic.\")\n",
    "else:\n",
    "    print(\"The given array is not monotonic.\")\n"
   ]
  },
  {
   "cell_type": "code",
   "execution_count": null,
   "id": "c1c31381-2002-4ce7-b4ad-b308ad8ef3d9",
   "metadata": {},
   "outputs": [],
   "source": []
  }
 ],
 "metadata": {
  "kernelspec": {
   "display_name": "Python 3 (ipykernel)",
   "language": "python",
   "name": "python3"
  },
  "language_info": {
   "codemirror_mode": {
    "name": "ipython",
    "version": 3
   },
   "file_extension": ".py",
   "mimetype": "text/x-python",
   "name": "python",
   "nbconvert_exporter": "python",
   "pygments_lexer": "ipython3",
   "version": "3.10.6"
  }
 },
 "nbformat": 4,
 "nbformat_minor": 5
}
