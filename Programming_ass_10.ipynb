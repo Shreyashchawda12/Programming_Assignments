{
 "cells": [
  {
   "cell_type": "code",
   "execution_count": 1,
   "id": "4013a95a-6457-4125-848d-04b018bf72d7",
   "metadata": {},
   "outputs": [
    {
     "name": "stdout",
     "output_type": "stream",
     "text": [
      "Sum of elements in the list: 15\n"
     ]
    }
   ],
   "source": [
    "#1. Write a Python program to find sum of elements in list?\n",
    "def find_sum(elements):\n",
    "    total = sum(elements)\n",
    "    return total\n",
    "\n",
    "# Example usage\n",
    "my_list = [1, 2, 3, 4, 5]\n",
    "result = find_sum(my_list)\n",
    "print(\"Sum of elements in the list:\", result)\n"
   ]
  },
  {
   "cell_type": "code",
   "execution_count": 2,
   "id": "d5574e8b-df34-4478-8203-3d333d025bcd",
   "metadata": {},
   "outputs": [
    {
     "name": "stdout",
     "output_type": "stream",
     "text": [
      "Product of numbers in the list: 120\n"
     ]
    }
   ],
   "source": [
    "#2. Write a Python program to Multiply all numbers in the list?\n",
    "def multiply_list(numbers):\n",
    "    result = 1\n",
    "    for num in numbers:\n",
    "        result *= num\n",
    "    return result\n",
    "\n",
    "# Example usage\n",
    "my_list = [1, 2, 3, 4, 5]\n",
    "product = multiply_list(my_list)\n",
    "print(\"Product of numbers in the list:\", product)\n"
   ]
  },
  {
   "cell_type": "code",
   "execution_count": 3,
   "id": "7ae75b5a-f406-41ef-818e-8253edd4fefc",
   "metadata": {},
   "outputs": [
    {
     "name": "stdout",
     "output_type": "stream",
     "text": [
      "Smallest number in the list: 1\n"
     ]
    }
   ],
   "source": [
    "#3. Write a Python program to find smallest number in a list?\n",
    "def find_smallest_number(numbers):\n",
    "    smallest = min(numbers)\n",
    "    return smallest\n",
    "\n",
    "# Example usage\n",
    "my_list = [5, 2, 8, 1, 10]\n",
    "smallest_num = find_smallest_number(my_list)\n",
    "print(\"Smallest number in the list:\", smallest_num)"
   ]
  },
  {
   "cell_type": "code",
   "execution_count": 4,
   "id": "1fca2e04-e963-4771-b25f-43d9dd5640e6",
   "metadata": {},
   "outputs": [
    {
     "name": "stdout",
     "output_type": "stream",
     "text": [
      "Largest number in the list: 10\n"
     ]
    }
   ],
   "source": [
    "#4. Write a Python program to find largest number in a list?\n",
    "def find_largest_number(numbers):\n",
    "    largest = max(numbers)\n",
    "    return largest\n",
    "\n",
    "# Example usage\n",
    "my_list = [5, 2, 8, 1, 10]\n",
    "largest_num = find_largest_number(my_list)\n",
    "print(\"Largest number in the list:\", largest_num)\n"
   ]
  },
  {
   "cell_type": "code",
   "execution_count": 5,
   "id": "9c361d9b-d03c-4e35-ad1f-ec4545fd7076",
   "metadata": {},
   "outputs": [
    {
     "name": "stdout",
     "output_type": "stream",
     "text": [
      "Second largest number in the list: 8\n"
     ]
    }
   ],
   "source": [
    "#5. Write a Python program to find second largest number in a list?\n",
    "def find_second_largest(numbers):\n",
    "    largest = float('-inf')\n",
    "    second_largest = float('-inf')\n",
    "    \n",
    "    for num in numbers:\n",
    "        if num > largest:\n",
    "            second_largest = largest\n",
    "            largest = num\n",
    "        elif num > second_largest and num != largest:\n",
    "            second_largest = num\n",
    "    \n",
    "    return second_largest\n",
    "\n",
    "# Example usage\n",
    "my_list = [5, 2, 8, 1, 10]\n",
    "second_largest_num = find_second_largest(my_list)\n",
    "print(\"Second largest number in the list:\", second_largest_num)\n"
   ]
  },
  {
   "cell_type": "code",
   "execution_count": 6,
   "id": "ff5551ef-d3ae-43d6-adb8-543229e5d5b0",
   "metadata": {},
   "outputs": [
    {
     "name": "stdout",
     "output_type": "stream",
     "text": [
      "The 3 largest elements in the list: [10, 8, 7]\n"
     ]
    }
   ],
   "source": [
    "#6. Write a Python program to find N largest elements from a list?\n",
    "def find_n_largest_elements(numbers, n):\n",
    "    largest_elements = sorted(numbers, reverse=True)[:n]\n",
    "    return largest_elements\n",
    "\n",
    "# Example usage\n",
    "my_list = [5, 2, 8, 1, 10, 7, 3]\n",
    "n = 3\n",
    "n_largest_elements = find_n_largest_elements(my_list, n)\n",
    "print(\"The\", n, \"largest elements in the list:\", n_largest_elements)\n"
   ]
  },
  {
   "cell_type": "code",
   "execution_count": 7,
   "id": "7fb8a6ef-8724-4137-909a-6ec8aaad0d0c",
   "metadata": {},
   "outputs": [
    {
     "name": "stdout",
     "output_type": "stream",
     "text": [
      "Even numbers in the list: [2, 4, 6, 8, 10]\n"
     ]
    }
   ],
   "source": [
    "#7. Write a Python program to print even numbers in a list?\n",
    "def print_even_numbers(numbers):\n",
    "    even_numbers = [num for num in numbers if num % 2 == 0]\n",
    "    print(\"Even numbers in the list:\", even_numbers)\n",
    "\n",
    "# Example usage\n",
    "my_list = [1, 2, 3, 4, 5, 6, 7, 8, 9, 10]\n",
    "print_even_numbers(my_list)\n"
   ]
  },
  {
   "cell_type": "code",
   "execution_count": 8,
   "id": "32e0a758-72d0-49b5-bd33-6f8587299a12",
   "metadata": {},
   "outputs": [
    {
     "name": "stdout",
     "output_type": "stream",
     "text": [
      "Odd numbers in the list: [1, 3, 5, 7, 9]\n"
     ]
    }
   ],
   "source": [
    "#8. Write a Python program to print odd numbers in a List?\n",
    "def print_odd_numbers(numbers):\n",
    "    odd_numbers = [num for num in numbers if num % 2 != 0]\n",
    "    print(\"Odd numbers in the list:\", odd_numbers)\n",
    "\n",
    "# Example usage\n",
    "my_list = [1, 2, 3, 4, 5, 6, 7, 8, 9, 10]\n",
    "print_odd_numbers(my_list)\n"
   ]
  },
  {
   "cell_type": "code",
   "execution_count": 9,
   "id": "fb4bc6eb-bb2d-4d32-bd3e-15904e494122",
   "metadata": {},
   "outputs": [
    {
     "name": "stdout",
     "output_type": "stream",
     "text": [
      "List after removing empty lists: [1, 2, 3, [4, 5], 6]\n"
     ]
    }
   ],
   "source": [
    "#9. Write a Python program to Remove empty List from List?\n",
    "def remove_empty_lists(lst):\n",
    "    updated_list = [sublist for sublist in lst if sublist]\n",
    "    return updated_list\n",
    "\n",
    "# Example usage\n",
    "my_list = [1, [], 2, [], 3, [4, 5], [], 6]\n",
    "updated_list = remove_empty_lists(my_list)\n",
    "print(\"List after removing empty lists:\", updated_list)\n"
   ]
  },
  {
   "cell_type": "code",
   "execution_count": 10,
   "id": "bbac403d-bae8-41d2-ba4c-1c0e0b00b116",
   "metadata": {},
   "outputs": [
    {
     "name": "stdout",
     "output_type": "stream",
     "text": [
      "Original list: [1, 2, 3, 4, 5]\n",
      "Cloned list: [1, 2, 3, 4, 5]\n"
     ]
    }
   ],
   "source": [
    "#10. Write a Python program to Cloning or Copying a list?\n",
    "def clone_list(lst):\n",
    "    cloned_list = lst.copy()  # or cloned_list = list(lst)\n",
    "    return cloned_list\n",
    "\n",
    "# Example usage\n",
    "my_list = [1, 2, 3, 4, 5]\n",
    "cloned_list = clone_list(my_list)\n",
    "print(\"Original list:\", my_list)\n",
    "print(\"Cloned list:\", cloned_list)\n"
   ]
  },
  {
   "cell_type": "code",
   "execution_count": 11,
   "id": "dfb9a98c-0c87-431b-83dd-e1280be41856",
   "metadata": {},
   "outputs": [
    {
     "name": "stdout",
     "output_type": "stream",
     "text": [
      "Number of occurrences of 2 in the list: 3\n"
     ]
    }
   ],
   "source": [
    "#11. Write a Python program to Count occurrences of an element in a list?\n",
    "def count_occurrences(lst, element):\n",
    "    count = lst.count(element)\n",
    "    return count\n",
    "\n",
    "# Example usage\n",
    "my_list = [1, 2, 3, 2, 4, 2, 5]\n",
    "element = 2\n",
    "occurrences = count_occurrences(my_list, element)\n",
    "print(\"Number of occurrences of\", element, \"in the list:\", occurrences)\n"
   ]
  },
  {
   "cell_type": "code",
   "execution_count": null,
   "id": "14fae858-7a6c-44a2-9be2-edf212676002",
   "metadata": {},
   "outputs": [],
   "source": []
  }
 ],
 "metadata": {
  "kernelspec": {
   "display_name": "Python 3 (ipykernel)",
   "language": "python",
   "name": "python3"
  },
  "language_info": {
   "codemirror_mode": {
    "name": "ipython",
    "version": 3
   },
   "file_extension": ".py",
   "mimetype": "text/x-python",
   "name": "python",
   "nbconvert_exporter": "python",
   "pygments_lexer": "ipython3",
   "version": "3.10.6"
  }
 },
 "nbformat": 4,
 "nbformat_minor": 5
}
